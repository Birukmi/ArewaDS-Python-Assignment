{
 "cells": [
  {
   "cell_type": "markdown",
   "metadata": {},
   "source": [
    "## Module Three"
   ]
  },
  {
   "cell_type": "code",
   "execution_count": null,
   "metadata": {},
   "outputs": [],
   "source": [
    "age = 27\n",
    "height = 1.78\n",
    "print('Complex number: ', 1 + 1j)\n",
    "b = input(\"enter base: \")\n",
    "h = input(\"Enter height: \")\n",
    "area = 0.5 * b * h\n",
    "print('The area of the triangle is', area)"
   ]
  },
  {
   "cell_type": "code",
   "execution_count": null,
   "metadata": {},
   "outputs": [],
   "source": [
    "a = input(\"Enter side a: \")\n",
    "b = input(\"Enter side b: \")\n",
    "c = input(\"Enter side c: \")\n",
    "perimeter = a+b+c\n",
    "print(\"The perimeter of the triangle is \",perimeter)"
   ]
  },
  {
   "cell_type": "code",
   "execution_count": null,
   "metadata": {},
   "outputs": [],
   "source": [
    "length = input(\"Enter length: \")\n",
    "width = input(\"Enter width: \")\n",
    "area = length*width\n",
    "perimeter = 2*(length + width)\n"
   ]
  },
  {
   "cell_type": "code",
   "execution_count": null,
   "metadata": {},
   "outputs": [],
   "source": [
    "r=input(\"enter the radius of circle: \")\n",
    "r=int(r)\n",
    "area = 3.14 * r * r\n",
    "print(\"area of circle is: \",area)\n",
    "c = 2 * 3.14 * r\n",
    "print('ccircumference of circle is: ', c)"
   ]
  },
  {
   "cell_type": "code",
   "execution_count": 4,
   "metadata": {},
   "outputs": [
    {
     "data": {
      "text/plain": [
       "False"
      ]
     },
     "execution_count": 4,
     "metadata": {},
     "output_type": "execute_result"
    }
   ],
   "source": [
    "# Find the length of 'python' and 'dragon' and make a falsy comparison statement.\n",
    "len('python')\n",
    "len('dragon')\n",
    "len('python') < len('dragon')"
   ]
  },
  {
   "cell_type": "code",
   "execution_count": 5,
   "metadata": {},
   "outputs": [
    {
     "name": "stdout",
     "output_type": "stream",
     "text": [
      "True\n"
     ]
    }
   ],
   "source": [
    "# Use and operator to check if 'on' is found in both 'python' and 'dragon'\n",
    "print('on' in 'python' and 'on' in 'dragon')  "
   ]
  },
  {
   "cell_type": "code",
   "execution_count": 6,
   "metadata": {},
   "outputs": [
    {
     "name": "stdout",
     "output_type": "stream",
     "text": [
      "True\n"
     ]
    }
   ],
   "source": [
    "# I hope this course is not full of jargon. Use in operator to check if jargon is in the sentence\n",
    "\n",
    "print(\"jargon\" in \"I hope this course is not full of jargon.\")  "
   ]
  },
  {
   "cell_type": "code",
   "execution_count": null,
   "metadata": {},
   "outputs": [],
   "source": [
    "# There is no 'on' in both dragon and python\n"
   ]
  },
  {
   "cell_type": "code",
   "execution_count": 7,
   "metadata": {},
   "outputs": [],
   "source": [
    "# Find the length of the text python and convert the value to float and convert it to string\n",
    "text_length = str(float(len(\"python\")))"
   ]
  },
  {
   "cell_type": "code",
   "execution_count": null,
   "metadata": {},
   "outputs": [],
   "source": [
    "# Even numbers are divisible by 2 and the remainder is zero. How do you check if a number is even or not using python?\n",
    "x = input(\"enter your number\")\n",
    "if x % 2 ==0:\n",
    "  {\n",
    "  print(\"The number is even\") }\n",
    "else: \n",
    "  { \n",
    "  print(\"The number is not even\")}"
   ]
  },
  {
   "cell_type": "code",
   "execution_count": null,
   "metadata": {},
   "outputs": [],
   "source": [
    "# Check if the floor division of 7 by 3 is equal to the int converted value of 2.7.\n",
    "print(7 // 3 == int(2.7))  "
   ]
  },
  {
   "cell_type": "code",
   "execution_count": null,
   "metadata": {},
   "outputs": [],
   "source": [
    "# Check if type of '10' is equal to type of 10\n",
    "print(type('10') == type(10))  "
   ]
  },
  {
   "cell_type": "code",
   "execution_count": null,
   "metadata": {},
   "outputs": [],
   "source": [
    "# Check if int('9.8') is equal to 10\n",
    "print(int('9.8') == 10) \n"
   ]
  },
  {
   "cell_type": "code",
   "execution_count": null,
   "metadata": {},
   "outputs": [],
   "source": [
    "# Write a script that prompts the user to enter hours and rate per hour. Calculate pay of the person?\n",
    "# Enter hours: 40\n",
    "# Enter rate per hour: 28\n",
    "# Your weekly earning is 1120\n",
    "hour = float(input(\"Enter hours: \"))\n",
    "rate = float(input(\"Enter rate per hour: \"))\n",
    "pay = hour * rate\n",
    "print(\"Your weekly earning is \", pay)\n"
   ]
  },
  {
   "cell_type": "code",
   "execution_count": null,
   "metadata": {},
   "outputs": [],
   "source": [
    "# Write a script that prompts the user to enter number of years. Calculate the number of seconds a person can live. Assume a person can live hundred years\n",
    "# Enter number of years you have lived: 100\n",
    "# You have lived for 3153600000 seconds.\n",
    "years = input(\"Enter number of years you have lived:  \")\n",
    "years = int(years)\n",
    "seconds = years * 31536000\n",
    "print(\"You have lived for \", seconds, \"seconds.\")  \n"
   ]
  },
  {
   "cell_type": "code",
   "execution_count": null,
   "metadata": {},
   "outputs": [],
   "source": [
    "# Write a Python script that displays the following table\n",
    "# 1 1 1 1 1\n",
    "# 2 1 2 4 8\n",
    "# 3 1 3 9 27\n",
    "# 4 1 4 16 64\n",
    "# 5 1 5 25 125\n"
   ]
  }
 ],
 "metadata": {
  "kernelspec": {
   "display_name": "base",
   "language": "python",
   "name": "python3"
  },
  "language_info": {
   "codemirror_mode": {
    "name": "ipython",
    "version": 3
   },
   "file_extension": ".py",
   "mimetype": "text/x-python",
   "name": "python",
   "nbconvert_exporter": "python",
   "pygments_lexer": "ipython3",
   "version": "3.12.3"
  }
 },
 "nbformat": 4,
 "nbformat_minor": 2
}
