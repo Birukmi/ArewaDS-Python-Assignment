{
 "cells": [
  {
   "cell_type": "markdown",
   "metadata": {},
   "source": [
    "## Module Three"
   ]
  },
  {
   "cell_type": "code",
   "execution_count": null,
   "metadata": {},
   "outputs": [],
   "source": [
    "age = 27\n",
    "height = 1.78\n",
    "print('Complex number: ', 1 + 1j)\n",
    "b = input(\"enter base: \")\n",
    "h = input(\"Enter height: \")\n",
    "area = 0.5 * b * h\n",
    "print('The area of the triangle is', area)"
   ]
  },
  {
   "cell_type": "code",
   "execution_count": null,
   "metadata": {},
   "outputs": [],
   "source": [
    "a = input(\"Enter side a: \")\n",
    "b = input(\"Enter side b: \")\n",
    "c = input(\"Enter side c: \")\n",
    "perimeter = a+b+c\n",
    "print(\"The perimeter of the triangle is \",perimeter)"
   ]
  },
  {
   "cell_type": "code",
   "execution_count": null,
   "metadata": {},
   "outputs": [],
   "source": [
    "length = input(\"Enter length: \")\n",
    "width = input(\"Enter width: \")\n",
    "area = length*width\n",
    "perimeter = 2*(length + width)\n"
   ]
  },
  {
   "cell_type": "code",
   "execution_count": null,
   "metadata": {},
   "outputs": [],
   "source": [
    "r=input(\"enter the radius of circle: \")\n",
    "r=int(r)\n",
    "area = 3.14 * r * r\n",
    "print(\"area of circle is: \",area)\n",
    "c = 2 * 3.14 * r\n",
    "print('ccircumference of circle is: ', c)"
   ]
  },
  {
   "cell_type": "code",
   "execution_count": null,
   "metadata": {},
   "outputs": [],
   "source": [
    "# Find the length of 'python' and 'dragon' and make a falsy comparison statement.\n",
    "len('python')\n",
    "len('dragon')\n",
    "len('python') >= len('dragon')"
   ]
  }
 ],
 "metadata": {
  "kernelspec": {
   "display_name": "base",
   "language": "python",
   "name": "python3"
  },
  "language_info": {
   "name": "python",
   "version": "3.12.3"
  }
 },
 "nbformat": 4,
 "nbformat_minor": 2
}
