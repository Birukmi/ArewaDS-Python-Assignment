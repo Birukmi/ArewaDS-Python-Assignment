{
 "cells": [
  {
   "cell_type": "markdown",
   "metadata": {},
   "source": [
    "## Module 2 Exercises"
   ]
  },
  {
   "cell_type": "markdown",
   "metadata": {},
   "source": [
    "#### Level one"
   ]
  },
  {
   "cell_type": "code",
   "execution_count": null,
   "metadata": {},
   "outputs": [],
   "source": [
    "# Day 2: 30 Days of python programming\n",
    "first_name = 'Biruk'\n",
    "last_name = 'Abebe'\n",
    "full_name = ' Biruk Abebe'\n",
    "country = 'Ethiopia'\n",
    "city = 'AddisAbaba'\n",
    "age = 27\n",
    "year = 1996\n",
    "is_married = False\n",
    "is_true = True \n",
    "is_light_on = True\n",
    "Gender, grand_name, favorite_food = 'Male','Mihretu','Meat'"
   ]
  },
  {
   "cell_type": "code",
   "execution_count": null,
   "metadata": {},
   "outputs": [],
   "source": [
    "type(first_name)\n",
    "type(last_name)\n",
    "type(country )\n",
    "type(city)\n",
    "type(age)\n",
    "type(year)\n",
    "type(is_true)\n",
    "type(is_married)\n",
    "type(is_light_on)"
   ]
  },
  {
   "cell_type": "code",
   "execution_count": null,
   "metadata": {},
   "outputs": [],
   "source": [
    "from math import pi\n",
    "len(first_name)\n",
    "len(first_name) == len(last_name)\n",
    "num_one = 5\n",
    "num_two = 4\n",
    "total = num_one + num_two\n",
    "diff = num_one - num_two\n",
    "product = num_one * num_two\n",
    "division = num_one / num_two\n",
    "remainder = num_two % num_one\n",
    "exp= pow(num_one, num_two)\n",
    "floor_division = num_one // num_two\n",
    "area_of_circle = pi * 30*30\n",
    "circum_of_circle = 2* pi*30 \n",
    "r = float(input(\"Input the radius of the circle : \"))\n",
    "area_of_circle = pi * r*r\n",
    "firstname = input(\"What is your first name?\")\n",
    "lastname = input(\"What is your last name?\")\n",
    "country = input(\"What is your country?\")\n",
    "age = input(\"What is your age?\")\n",
    "fullname = firstname = \" \" + lastname\n"
   ]
  }
 ],
 "metadata": {
  "kernelspec": {
   "display_name": "base",
   "language": "python",
   "name": "python3"
  },
  "language_info": {
   "name": "python",
   "version": "3.12.3"
  }
 },
 "nbformat": 4,
 "nbformat_minor": 2
}
